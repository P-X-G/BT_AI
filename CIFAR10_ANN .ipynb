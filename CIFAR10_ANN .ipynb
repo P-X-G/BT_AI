{
  "nbformat": 4,
  "nbformat_minor": 0,
  "metadata": {
    "colab": {
      "name": "CIFAR10_ANN.ipynb",
      "provenance": []
    },
    "kernelspec": {
      "name": "python3",
      "display_name": "Python 3"
    },
    "language_info": {
      "name": "python"
    },
    "accelerator": "GPU"
  },
  "cells": [
    {
      "cell_type": "code",
      "execution_count": 1,
      "metadata": {
        "id": "BTOVZmtWpG_V"
      },
      "outputs": [],
      "source": [
        "#KHAI BAO TV\n",
        "import numpy as np\n",
        "import pandas as pd\n",
        "import cv2\n",
        "from keras.models import Sequential\n",
        "from tensorflow.keras import datasets, layers,models\n",
        "import matplotlib.pyplot as plt\n",
        "from tensorflow import keras\n",
        "from keras.layers import Dense, Activation, Dropout,Flatten\n",
        "from keras.datasets import cifar10\n",
        "from tensorflow.keras.optimizers import Adam\n",
        "from sklearn.preprocessing import StandardScaler\n",
        "from keras.utils import np_utils\n",
        "import tensorflow as tf\n"
      ]
    },
    {
      "cell_type": "code",
      "source": [
        "(x_train,y_train),(x_test,y_test)=cifar10.load_data()\n",
        "x_pre = x_test\n",
        "y_ktr = y_test\n",
        "x_train = x_train.reshape(x_train.shape[0], -1)\n",
        "x_test = x_test.reshape(x_test.shape[0], -1)\n",
        "x_train = x_train.astype('float32')\n",
        "x_test = x_test.astype('float32')"
      ],
      "metadata": {
        "id": "R6CI6sZypIlG",
        "colab": {
          "base_uri": "https://localhost:8080/"
        },
        "outputId": "240a80bb-472a-4bb4-e137-68a5233b99ed"
      },
      "execution_count": 2,
      "outputs": [
        {
          "output_type": "stream",
          "name": "stdout",
          "text": [
            "Downloading data from https://www.cs.toronto.edu/~kriz/cifar-10-python.tar.gz\n",
            "170500096/170498071 [==============================] - 6s 0us/step\n",
            "170508288/170498071 [==============================] - 6s 0us/step\n"
          ]
        }
      ]
    },
    {
      "cell_type": "code",
      "source": [
        "# đưa giá trị về từ 0-1\n",
        "x_train /= 255\n",
        "x_test /= 255\n",
        "y_train = np_utils.to_categorical(y_train, 100)\n",
        "y_test = np_utils.to_categorical(y_test, 100)\n"
      ],
      "metadata": {
        "id": "-tjbYi5hpJvi"
      },
      "execution_count": 3,
      "outputs": []
    },
    {
      "cell_type": "code",
      "source": [
        "model = Sequential()\n",
        "model.add(Dense(512, activation='relu',\n",
        "input_shape = (x_train.shape[1],)))\n",
        "model.add(Dropout(0.1))\n",
        "model.add(Dense(256,activation='relu'))\n",
        "model.add(Dropout(0.1))\n",
        "model.add(Dense(256,activation='relu'))\n",
        "model.add(Dropout(0.1))\n",
        "model.add(Dense(100,activation='softmax'))\n",
        "model.summary()\n",
        "model.compile(loss='mean_squared_error',\n",
        "optimizer =Adam(), metrics=['acc'])\n",
        "history = model.fit(x_train, y_train, batch_size =256, epochs = 30, validation_split = 0.2)\n",
        "model.save('CIFAR10')"
      ],
      "metadata": {
        "id": "kItWy9Dmpg2B",
        "colab": {
          "base_uri": "https://localhost:8080/"
        },
        "outputId": "54fc9cd2-1f6d-4535-f600-55e7a12646fc"
      },
      "execution_count": 5,
      "outputs": [
        {
          "output_type": "stream",
          "name": "stdout",
          "text": [
            "Model: \"sequential_1\"\n",
            "_________________________________________________________________\n",
            " Layer (type)                Output Shape              Param #   \n",
            "=================================================================\n",
            " dense_4 (Dense)             (None, 512)               1573376   \n",
            "                                                                 \n",
            " dropout_3 (Dropout)         (None, 512)               0         \n",
            "                                                                 \n",
            " dense_5 (Dense)             (None, 256)               131328    \n",
            "                                                                 \n",
            " dropout_4 (Dropout)         (None, 256)               0         \n",
            "                                                                 \n",
            " dense_6 (Dense)             (None, 256)               65792     \n",
            "                                                                 \n",
            " dropout_5 (Dropout)         (None, 256)               0         \n",
            "                                                                 \n",
            " dense_7 (Dense)             (None, 100)               25700     \n",
            "                                                                 \n",
            "=================================================================\n",
            "Total params: 1,796,196\n",
            "Trainable params: 1,796,196\n",
            "Non-trainable params: 0\n",
            "_________________________________________________________________\n",
            "Epoch 1/30\n",
            "157/157 [==============================] - 2s 12ms/step - loss: 0.0084 - acc: 0.2646 - val_loss: 0.0080 - val_acc: 0.3124\n",
            "Epoch 2/30\n",
            "157/157 [==============================] - 1s 9ms/step - loss: 0.0078 - acc: 0.3438 - val_loss: 0.0075 - val_acc: 0.3741\n",
            "Epoch 3/30\n",
            "157/157 [==============================] - 2s 10ms/step - loss: 0.0076 - acc: 0.3724 - val_loss: 0.0075 - val_acc: 0.3788\n",
            "Epoch 4/30\n",
            "157/157 [==============================] - 1s 9ms/step - loss: 0.0074 - acc: 0.3954 - val_loss: 0.0072 - val_acc: 0.4150\n",
            "Epoch 5/30\n",
            "157/157 [==============================] - 2s 10ms/step - loss: 0.0072 - acc: 0.4126 - val_loss: 0.0073 - val_acc: 0.4083\n",
            "Epoch 6/30\n",
            "157/157 [==============================] - 1s 9ms/step - loss: 0.0071 - acc: 0.4229 - val_loss: 0.0071 - val_acc: 0.4204\n",
            "Epoch 7/30\n",
            "157/157 [==============================] - 2s 14ms/step - loss: 0.0071 - acc: 0.4317 - val_loss: 0.0071 - val_acc: 0.4262\n",
            "Epoch 8/30\n",
            "157/157 [==============================] - 2s 13ms/step - loss: 0.0070 - acc: 0.4396 - val_loss: 0.0071 - val_acc: 0.4248\n",
            "Epoch 9/30\n",
            "157/157 [==============================] - 2s 11ms/step - loss: 0.0069 - acc: 0.4450 - val_loss: 0.0070 - val_acc: 0.4398\n",
            "Epoch 10/30\n",
            "157/157 [==============================] - 1s 9ms/step - loss: 0.0068 - acc: 0.4537 - val_loss: 0.0069 - val_acc: 0.4498\n",
            "Epoch 11/30\n",
            "157/157 [==============================] - 1s 9ms/step - loss: 0.0067 - acc: 0.4632 - val_loss: 0.0069 - val_acc: 0.4436\n",
            "Epoch 12/30\n",
            "157/157 [==============================] - 1s 9ms/step - loss: 0.0068 - acc: 0.4604 - val_loss: 0.0069 - val_acc: 0.4425\n",
            "Epoch 13/30\n",
            "157/157 [==============================] - 1s 9ms/step - loss: 0.0066 - acc: 0.4738 - val_loss: 0.0067 - val_acc: 0.4627\n",
            "Epoch 14/30\n",
            "157/157 [==============================] - 1s 9ms/step - loss: 0.0066 - acc: 0.4818 - val_loss: 0.0066 - val_acc: 0.4715\n",
            "Epoch 15/30\n",
            "157/157 [==============================] - 2s 11ms/step - loss: 0.0065 - acc: 0.4826 - val_loss: 0.0067 - val_acc: 0.4653\n",
            "Epoch 16/30\n",
            "157/157 [==============================] - 2s 13ms/step - loss: 0.0065 - acc: 0.4904 - val_loss: 0.0068 - val_acc: 0.4579\n",
            "Epoch 17/30\n",
            "157/157 [==============================] - 2s 13ms/step - loss: 0.0064 - acc: 0.4946 - val_loss: 0.0067 - val_acc: 0.4647\n",
            "Epoch 18/30\n",
            "157/157 [==============================] - 2s 13ms/step - loss: 0.0064 - acc: 0.4949 - val_loss: 0.0067 - val_acc: 0.4750\n",
            "Epoch 19/30\n",
            "157/157 [==============================] - 2s 11ms/step - loss: 0.0064 - acc: 0.4989 - val_loss: 0.0065 - val_acc: 0.4882\n",
            "Epoch 20/30\n",
            "157/157 [==============================] - 1s 9ms/step - loss: 0.0063 - acc: 0.5046 - val_loss: 0.0066 - val_acc: 0.4859\n",
            "Epoch 21/30\n",
            "157/157 [==============================] - 1s 9ms/step - loss: 0.0063 - acc: 0.5069 - val_loss: 0.0065 - val_acc: 0.4860\n",
            "Epoch 22/30\n",
            "157/157 [==============================] - 2s 10ms/step - loss: 0.0062 - acc: 0.5163 - val_loss: 0.0065 - val_acc: 0.4932\n",
            "Epoch 23/30\n",
            "157/157 [==============================] - 2s 10ms/step - loss: 0.0062 - acc: 0.5170 - val_loss: 0.0065 - val_acc: 0.4903\n",
            "Epoch 24/30\n",
            "157/157 [==============================] - 2s 10ms/step - loss: 0.0061 - acc: 0.5217 - val_loss: 0.0064 - val_acc: 0.4915\n",
            "Epoch 25/30\n",
            "157/157 [==============================] - 1s 9ms/step - loss: 0.0061 - acc: 0.5257 - val_loss: 0.0065 - val_acc: 0.4845\n",
            "Epoch 26/30\n",
            "157/157 [==============================] - 1s 9ms/step - loss: 0.0061 - acc: 0.5294 - val_loss: 0.0065 - val_acc: 0.4874\n",
            "Epoch 27/30\n",
            "157/157 [==============================] - 2s 10ms/step - loss: 0.0061 - acc: 0.5304 - val_loss: 0.0064 - val_acc: 0.4978\n",
            "Epoch 28/30\n",
            "157/157 [==============================] - 2s 10ms/step - loss: 0.0060 - acc: 0.5350 - val_loss: 0.0064 - val_acc: 0.4917\n",
            "Epoch 29/30\n",
            "157/157 [==============================] - 2s 10ms/step - loss: 0.0060 - acc: 0.5392 - val_loss: 0.0064 - val_acc: 0.4918\n",
            "Epoch 30/30\n",
            "157/157 [==============================] - 1s 9ms/step - loss: 0.0060 - acc: 0.5395 - val_loss: 0.0063 - val_acc: 0.5066\n",
            "INFO:tensorflow:Assets written to: CIFAR10/assets\n"
          ]
        }
      ]
    },
    {
      "cell_type": "code",
      "source": [
        "plt.plot(history.history['acc'])\n",
        "plt.plot(history.history['val_acc'])\n",
        "plt.title('Model Accuracy')\n",
        "plt.ylabel('accuracy')\n",
        "plt.xlabel('epoch')\n",
        "plt.legend(['train','validation'],loc='upper left')"
      ],
      "metadata": {
        "id": "BT3QGR8opiH7",
        "colab": {
          "base_uri": "https://localhost:8080/",
          "height": 312
        },
        "outputId": "63216e37-71cd-4913-fe2b-57b76782dc7a"
      },
      "execution_count": 7,
      "outputs": [
        {
          "output_type": "execute_result",
          "data": {
            "text/plain": [
              "<matplotlib.legend.Legend at 0x7f5ff27b8d50>"
            ]
          },
          "metadata": {},
          "execution_count": 7
        },
        {
          "output_type": "display_data",
          "data": {
            "text/plain": [
              "<Figure size 432x288 with 1 Axes>"
            ],
            "image/png": "[encoded data removed]"
          },
          "metadata": {
            "needs_background": "light"
          }
        }
      ]
    },
    {
      "cell_type": "code",
      "source": [
        "#VẼ ĐỒ THỊ VAL-ACC\n",
        "import matplotlib.pyplot as plt\n",
        "plt.subplot(212)\n",
        "plt.title('Val Accuracy')\n",
        "plt.plot(history.history['val_acc'], color='blue',\n",
        "label='train')\n",
        "Label = ['Airplane', 'Automobile', 'Bird', 'Cat',\n",
        "'Deer', 'Dog', 'Frog', 'Horse', 'Ship', 'Truck']\n",
        "test = 230\n",
        "plt.title(\" Đoán là: \" +\n",
        "str(Label[np.argmax(model.predict(x_pre[test].reshape(-1,3072)))]))\n",
        "y_ktr[test]\n",
        "plt.imshow(x_pre[test],\n",
        "cmap=plt.get_cmap('gray'))"
      ],
      "metadata": {
        "id": "sRsIFSH6pjP8",
        "colab": {
          "base_uri": "https://localhost:8080/",
          "height": 180
        },
        "outputId": "dcee7508-2b68-4333-c7f2-0046fd77df4a"
      },
      "execution_count": 9,
      "outputs": [
        {
          "output_type": "execute_result",
          "data": {
            "text/plain": [
              "<matplotlib.image.AxesImage at 0x7f5ff2ae20d0>"
            ]
          },
          "metadata": {},
          "execution_count": 9
        },
        {
          "output_type": "display_data",
          "data": {
            "text/plain": [
              "<Figure size 432x288 with 1 Axes>"
            ],
            "image/png": "[encoded data removed]"
          },
          "metadata": {
            "needs_background": "light"
          }
        }
      ]
    },
    {
      "cell_type": "code",
      "source": [
        "from google.colab import drive\n",
        "drive.mount('/content/drive')\n",
        "!wget -nc https://raw.githubusercontent.com/brpy/colab-pdf/master/colab_pdf.py\n",
        "from colab_pdf import colab_pdf\n",
        "colab_pdf('CIFAR10_ANN.ipynb')"
      ],
      "metadata": {
        "id": "KiqgCxWu-xHL",
        "colab": {
          "base_uri": "https://localhost:8080/",
          "height": 576
        },
        "outputId": "991d1ba2-b6af-4bb4-e681-1da2cf4460a9"
      },
      "execution_count": 10,
      "outputs": [
        {
          "output_type": "stream",
          "name": "stdout",
          "text": [
            "Mounted at /content/drive\n",
            "--2022-05-19 09:59:04--  https://raw.githubusercontent.com/brpy/colab-pdf/master/colab_pdf.py\n",
            "Resolving raw.githubusercontent.com (raw.githubusercontent.com)... 185.199.108.133, 185.199.109.133, 185.199.110.133, ...\n",
            "Connecting to raw.githubusercontent.com (raw.githubusercontent.com)|185.199.108.133|:443... connected.\n",
            "HTTP request sent, awaiting response... 200 OK\n",
            "Length: 1864 (1.8K) [text/plain]\n",
            "Saving to: ‘colab_pdf.py’\n",
            "\n",
            "\rcolab_pdf.py          0%[                    ]       0  --.-KB/s               \rcolab_pdf.py        100%[===================>]   1.82K  --.-KB/s    in 0s      \n",
            "\n",
            "2022-05-19 09:59:04 (30.8 MB/s) - ‘colab_pdf.py’ saved [1864/1864]\n",
            "\n",
            "\n",
            "WARNING: apt does not have a stable CLI interface. Use with caution in scripts.\n",
            "\n",
            "\n",
            "WARNING: apt does not have a stable CLI interface. Use with caution in scripts.\n",
            "\n",
            "Extracting templates from packages: 100%\n",
            "[NbConvertApp] Converting notebook /content/drive/MyDrive/Colab Notebooks/CIFAR10_ANN.ipynb to pdf\n",
            "[NbConvertApp] Support files will be in CIFAR10_ANN_files/\n",
            "[NbConvertApp] Making directory ./CIFAR10_ANN_files\n",
            "[NbConvertApp] Making directory ./CIFAR10_ANN_files\n",
            "[NbConvertApp] Writing 38095 bytes to ./notebook.tex\n",
            "[NbConvertApp] Building PDF\n",
            "[NbConvertApp] Running xelatex 3 times: ['xelatex', './notebook.tex', '-quiet']\n",
            "[NbConvertApp] Running bibtex 1 time: ['bibtex', './notebook']\n",
            "[NbConvertApp] WARNING | bibtex had problems, most likely because there were no citations\n",
            "[NbConvertApp] PDF successfully created\n",
            "[NbConvertApp] Writing 55782 bytes to /content/drive/My Drive/CIFAR10_ANN.pdf\n"
          ]
        },
        {
          "output_type": "display_data",
          "data": {
            "text/plain": [
              "<IPython.core.display.Javascript object>"
            ],
            "application/javascript": [
              "\n",
              "    async function download(id, filename, size) {\n",
              "      if (!google.colab.kernel.accessAllowed) {\n",
              "        return;\n",
              "      }\n",
              "      const div = document.createElement('div');\n",
              "      const label = document.createElement('label');\n",
              "      label.textContent = `Downloading \"${filename}\": `;\n",
              "      div.appendChild(label);\n",
              "      const progress = document.createElement('progress');\n",
              "      progress.max = size;\n",
              "      div.appendChild(progress);\n",
              "      document.body.appendChild(div);\n",
              "\n",
              "      const buffers = [];\n",
              "      let downloaded = 0;\n",
              "\n",
              "      const channel = await google.colab.kernel.comms.open(id);\n",
              "      // Send a message to notify the kernel that we're ready.\n",
              "      channel.send({})\n",
              "\n",
              "      for await (const message of channel.messages) {\n",
              "        // Send a message to notify the kernel that we're ready.\n",
              "        channel.send({})\n",
              "        if (message.buffers) {\n",
              "          for (const buffer of message.buffers) {\n",
              "            buffers.push(buffer);\n",
              "            downloaded += buffer.byteLength;\n",
              "            progress.value = downloaded;\n",
              "          }\n",
              "        }\n",
              "      }\n",
              "      const blob = new Blob(buffers, {type: 'application/binary'});\n",
              "      const a = document.createElement('a');\n",
              "      a.href = window.URL.createObjectURL(blob);\n",
              "      a.download = filename;\n",
              "      div.appendChild(a);\n",
              "      a.click();\n",
              "      div.remove();\n",
              "    }\n",
              "  "
            ]
          },
          "metadata": {}
        },
        {
          "output_type": "display_data",
          "data": {
            "text/plain": [
              "<IPython.core.display.Javascript object>"
            ],
            "application/javascript": [
              "download(\"download_99bd1859-3cb2-460d-a96a-06c95157b28e\", \"CIFAR10_ANN.pdf\", 55782)"
            ]
          },
          "metadata": {}
        },
        {
          "output_type": "execute_result",
          "data": {
            "text/plain": [
              "'File ready to be Downloaded and Saved to Drive'"
            ],
            "application/vnd.google.colaboratory.intrinsic+json": {
              "type": "string"
            }
          },
          "metadata": {},
          "execution_count": 10
        }
      ]
    }
  ]
}